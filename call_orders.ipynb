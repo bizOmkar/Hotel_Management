{
 "cells": [
  {
   "cell_type": "code",
   "execution_count": null,
   "metadata": {},
   "outputs": [],
   "source": []
  },
  {
   "cell_type": "code",
   "execution_count": 1,
   "metadata": {},
   "outputs": [],
   "source": [
    "from hotel_orders import *\n",
    "from hotel_orders import Order\n"
   ]
  },
  {
   "cell_type": "code",
   "execution_count": 6,
   "metadata": {},
   "outputs": [],
   "source": [
    "menu_item1 = MenuCard(1, 'Puran Poli', 40.00, 'Y')\n",
    "menu_item2 = MenuCard(2, 'Misal Pav', 50.00, 'Y')"
   ]
  },
  {
   "cell_type": "code",
   "execution_count": 7,
   "metadata": {},
   "outputs": [],
   "source": [
    "order1 = Order(13, 102, menu_item1, 2)\n",
    "order2 = Order(14, 102, menu_item2, 3)"
   ]
  },
  {
   "cell_type": "code",
   "execution_count": 8,
   "metadata": {},
   "outputs": [
    {
     "name": "stdout",
     "output_type": "stream",
     "text": [
      "---------------------------------\n",
      "|   Welcome Hotel Name          |\n",
      "|2024-08-14       recpt: BILL104|\n",
      "---------------------------------\n",
      "|SR.   Menu           qnt   price  |\n",
      "|1     Puran Poli    2    80.00|\n",
      "|2     Misal Pav    3    150.00|\n",
      "---------------------------------\n",
      "|    total        230.00  |\n",
      "|including GST 09% = 20.70  |\n",
      "---------------------------------\n",
      "|    Grand total        250.70  |\n",
      "---------------------------------\n"
     ]
    }
   ],
   "source": [
    "bill = FinalBill(101, [order1, order2])  \n",
    "bill.generate_bill()"
   ]
  },
  {
   "cell_type": "code",
   "execution_count": 9,
   "metadata": {},
   "outputs": [
    {
     "name": "stdout",
     "output_type": "stream",
     "text": [
      "---------------------------------\n",
      "|   Welcome Hotel Name          |\n",
      "|2024-08-14       recpt: BILL105|\n",
      "---------------------------------\n",
      "|SR.   Menu           qnt   price  |\n",
      "|1     Sabudana Khichdi    3    105.00|\n",
      "|2     Thalipeeth    2    90.00|\n",
      "|3     Solkadhi    1    25.00|\n",
      "---------------------------------\n",
      "|    total        220.00  |\n",
      "|including GST 09% = 19.80  |\n",
      "---------------------------------\n",
      "|    Grand total        239.80  |\n",
      "---------------------------------\n"
     ]
    }
   ],
   "source": [
    "# Create menu items\n",
    "menu_item1 = MenuCard(3, 'Sabudana Khichdi', 35.00, 'Y')\n",
    "menu_item2 = MenuCard(4, 'Thalipeeth', 45.00, 'Y')\n",
    "menu_item3 = MenuCard(5, 'Solkadhi', 25.00, 'Y')\n",
    "\n",
    "# Take orders\n",
    "order1 = Order(17, 102, menu_item1, 3)  # 3 plates of Sabudana Khichdi\n",
    "order2 = Order(18, 102, menu_item2, 2)  # 2 plates of Thalipeeth\n",
    "order3 = Order(19, 102, menu_item3, 1)  # 1 glass of Solkadhi\n",
    "\n",
    "# Generate the final bill\n",
    "bill = FinalBill(102, [order1, order2, order3])\n",
    "bill.generate_bill()\n"
   ]
  },
  {
   "cell_type": "code",
   "execution_count": 4,
   "metadata": {},
   "outputs": [
    {
     "ename": "ValueError",
     "evalue": "Menu item 'Bharli Vangi ' is not available.",
     "output_type": "error",
     "traceback": [
      "\u001b[1;31m---------------------------------------------------------------------------\u001b[0m",
      "\u001b[1;31mValueError\u001b[0m                                Traceback (most recent call last)",
      "Cell \u001b[1;32mIn[4], line 8\u001b[0m\n\u001b[0;32m      6\u001b[0m \u001b[38;5;66;03m# Take orders\u001b[39;00m\n\u001b[0;32m      7\u001b[0m order1 \u001b[38;5;241m=\u001b[39m Order(\u001b[38;5;241m20\u001b[39m, \u001b[38;5;241m102\u001b[39m, menu_item1, \u001b[38;5;241m3\u001b[39m)  \u001b[38;5;66;03m# 3 plates of Sabudana Khichdi\u001b[39;00m\n\u001b[1;32m----> 8\u001b[0m order2 \u001b[38;5;241m=\u001b[39m \u001b[43mOrder\u001b[49m\u001b[43m(\u001b[49m\u001b[38;5;241;43m18\u001b[39;49m\u001b[43m,\u001b[49m\u001b[43m \u001b[49m\u001b[38;5;241;43m102\u001b[39;49m\u001b[43m,\u001b[49m\u001b[43m \u001b[49m\u001b[43mmenu_item2\u001b[49m\u001b[43m,\u001b[49m\u001b[43m \u001b[49m\u001b[38;5;241;43m2\u001b[39;49m\u001b[43m)\u001b[49m  \u001b[38;5;66;03m# 2 plates of Thalipeeth\u001b[39;00m\n\u001b[0;32m     11\u001b[0m \u001b[38;5;66;03m# Generate the final bill\u001b[39;00m\n\u001b[0;32m     12\u001b[0m bill \u001b[38;5;241m=\u001b[39m FinalBill(\u001b[38;5;241m102\u001b[39m, [order1, order2])\n",
      "File \u001b[1;32mc:\\Bizmetric\\MLE_Training\\OmkarK_Hotel_Management\\hotel_orders.py:36\u001b[0m, in \u001b[0;36mOrder.__init__\u001b[1;34m(self, sr_no, tbl_id, menu_item, quantity)\u001b[0m\n\u001b[0;32m     33\u001b[0m \u001b[38;5;28mself\u001b[39m\u001b[38;5;241m.\u001b[39mquantity \u001b[38;5;241m=\u001b[39m quantity\n\u001b[0;32m     34\u001b[0m \u001b[38;5;28mself\u001b[39m\u001b[38;5;241m.\u001b[39morder_date \u001b[38;5;241m=\u001b[39m datetime\u001b[38;5;241m.\u001b[39mnow()\n\u001b[1;32m---> 36\u001b[0m \u001b[38;5;28;43mself\u001b[39;49m\u001b[38;5;241;43m.\u001b[39;49m\u001b[43mvalidate_order\u001b[49m\u001b[43m(\u001b[49m\u001b[43m)\u001b[49m\n\u001b[0;32m     37\u001b[0m \u001b[38;5;28mself\u001b[39m\u001b[38;5;241m.\u001b[39mlog_order()\n\u001b[0;32m     38\u001b[0m \u001b[38;5;28mself\u001b[39m\u001b[38;5;241m.\u001b[39msave_to_db()\n",
      "File \u001b[1;32mc:\\Bizmetric\\MLE_Training\\OmkarK_Hotel_Management\\hotel_orders.py:42\u001b[0m, in \u001b[0;36mOrder.validate_order\u001b[1;34m(self)\u001b[0m\n\u001b[0;32m     40\u001b[0m \u001b[38;5;28;01mdef\u001b[39;00m \u001b[38;5;21mvalidate_order\u001b[39m(\u001b[38;5;28mself\u001b[39m):\n\u001b[0;32m     41\u001b[0m     \u001b[38;5;28;01mif\u001b[39;00m \u001b[38;5;28mself\u001b[39m\u001b[38;5;241m.\u001b[39mmenu_item\u001b[38;5;241m.\u001b[39mavailable \u001b[38;5;241m!=\u001b[39m \u001b[38;5;124m'\u001b[39m\u001b[38;5;124mY\u001b[39m\u001b[38;5;124m'\u001b[39m:\n\u001b[1;32m---> 42\u001b[0m         \u001b[38;5;28;01mraise\u001b[39;00m \u001b[38;5;167;01mValueError\u001b[39;00m(\u001b[38;5;124mf\u001b[39m\u001b[38;5;124m\"\u001b[39m\u001b[38;5;124mMenu item \u001b[39m\u001b[38;5;124m'\u001b[39m\u001b[38;5;132;01m{\u001b[39;00m\u001b[38;5;28mself\u001b[39m\u001b[38;5;241m.\u001b[39mmenu_item\u001b[38;5;241m.\u001b[39mmenu_name\u001b[38;5;132;01m}\u001b[39;00m\u001b[38;5;124m'\u001b[39m\u001b[38;5;124m is not available.\u001b[39m\u001b[38;5;124m\"\u001b[39m)\n\u001b[0;32m     43\u001b[0m     \u001b[38;5;28;01mif\u001b[39;00m \u001b[38;5;28mself\u001b[39m\u001b[38;5;241m.\u001b[39mquantity \u001b[38;5;241m<\u001b[39m\u001b[38;5;241m=\u001b[39m \u001b[38;5;241m0\u001b[39m:\n\u001b[0;32m     44\u001b[0m         \u001b[38;5;28;01mraise\u001b[39;00m \u001b[38;5;167;01mValueError\u001b[39;00m(\u001b[38;5;124m\"\u001b[39m\u001b[38;5;124mQuantity must be greater than 0.\u001b[39m\u001b[38;5;124m\"\u001b[39m)\n",
      "\u001b[1;31mValueError\u001b[0m: Menu item 'Bharli Vangi ' is not available."
     ]
    }
   ],
   "source": [
    "# Create menu items\n",
    "menu_item1 = MenuCard(4, 'Thalipeeth', 45.00, 'Y')\n",
    "menu_item2 =  MenuCard(6, 'Bharli Vangi ', 60.00, 'N') \n",
    "\n",
    "\n",
    "# Take orders\n",
    "order1 = Order(20, 102, menu_item1, 3)  # 3 plates of Sabudana Khichdi\n",
    "order2 = Order(18, 102, menu_item2, 2)  # 2 plates of Thalipeeth\n",
    "\n",
    "\n",
    "# Generate the final bill\n",
    "bill = FinalBill(102, [order1, order2])\n",
    "bill.generate_bill()\n"
   ]
  }
 ],
 "metadata": {
  "kernelspec": {
   "display_name": "Python 3",
   "language": "python",
   "name": "python3"
  },
  "language_info": {
   "codemirror_mode": {
    "name": "ipython",
    "version": 3
   },
   "file_extension": ".py",
   "mimetype": "text/x-python",
   "name": "python",
   "nbconvert_exporter": "python",
   "pygments_lexer": "ipython3",
   "version": "3.12.5"
  }
 },
 "nbformat": 4,
 "nbformat_minor": 2
}
